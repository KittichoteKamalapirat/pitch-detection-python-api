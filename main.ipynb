{
 "cells": [
  {
   "cell_type": "code",
   "execution_count": null,
   "metadata": {},
   "outputs": [],
   "source": [
    "!pip install matplotlib"
   ]
  },
  {
   "cell_type": "code",
   "execution_count": null,
   "metadata": {},
   "outputs": [],
   "source": [
    "import matplotlib.pyplot as plt\n",
    "import torchcrepe\n",
    "import numpy as np\n",
    "\n",
    "def get_pitch(file_path):\n",
    "    audio, sr = torchcrepe.load.audio(file_path)\n",
    "\n",
    "    hop_length = int(sr / 200.)\n",
    "    fmin = 50\n",
    "    fmax = 550\n",
    "    model = 'tiny'\n",
    "    device = 'cpu'\n",
    "    # device = 'cuda:0'\n",
    "    batch_size = 2048\n",
    "\n",
    "    pitch, confidence = torchcrepe.predict(\n",
    "        audio,\n",
    "        sr,\n",
    "        hop_length,\n",
    "        fmin,\n",
    "        fmax,\n",
    "        model,\n",
    "        batch_size=batch_size,\n",
    "        device=device,\n",
    "        return_periodicity=True\n",
    "    )\n",
    "\n",
    "    pitch_list = pitch[0]\n",
    "    confidence_list = confidence[0]\n",
    "\n",
    "    return pitch_list, confidence_list\n",
    "\n",
    "\n",
    "\n",
    "def draw_pitch(pitch_list):\n",
    "    time_values = np.arange(len(pitch_list))\n",
    "    frequency_values = np.array(pitch_list)\n",
    "\n",
    "    plt.figure(figsize=(12, 6))\n",
    "    plt.title('Pitch over Time')\n",
    "    plt.xlabel('Time (s)')\n",
    "    plt.ylabel('Frequency (Hz)')\n",
    "\n",
    "    plt.plot(time_values, frequency_values, marker='o', linestyle='-')\n",
    "    plt.grid()\n",
    "    plt.show()\n"
   ]
  },
  {
   "cell_type": "code",
   "execution_count": null,
   "metadata": {},
   "outputs": [],
   "source": [
    "pitch_list, confidence_list = get_pitch(\"./assets/0a3773aca42243d25c38fc2b7fa67394-a9c924ad248c8bfe581b2182bc8ec170d3ca6919.wav\")\n",
    "draw_pitch(pitch_list)"
   ]
  }
 ],
 "metadata": {
  "kernelspec": {
   "display_name": "Python 3",
   "language": "python",
   "name": "python3"
  },
  "language_info": {
   "codemirror_mode": {
    "name": "ipython",
    "version": 3
   },
   "file_extension": ".py",
   "mimetype": "text/x-python",
   "name": "python",
   "nbconvert_exporter": "python",
   "pygments_lexer": "ipython3",
   "version": "3.9.4"
  },
  "orig_nbformat": 4
 },
 "nbformat": 4,
 "nbformat_minor": 2
}
